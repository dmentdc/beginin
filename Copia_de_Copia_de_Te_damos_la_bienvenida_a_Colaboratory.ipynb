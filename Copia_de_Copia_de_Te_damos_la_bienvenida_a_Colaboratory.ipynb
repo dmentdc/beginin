{
  "nbformat": 4,
  "nbformat_minor": 0,
  "metadata": {
    "colab": {
      "name": "Copia de Copia de Te damos la bienvenida a Colaboratory",
      "provenance": [],
      "collapsed_sections": [],
      "include_colab_link": true
    },
    "kernelspec": {
      "display_name": "Python 3",
      "name": "python3"
    }
  },
  "cells": [
    {
      "cell_type": "markdown",
      "metadata": {
        "id": "view-in-github",
        "colab_type": "text"
      },
      "source": [
        "<a href=\"https://colab.research.google.com/github/sebarias/beginin/blob/master/Copia_de_Copia_de_Te_damos_la_bienvenida_a_Colaboratory.ipynb\" target=\"_parent\"><img src=\"https://colab.research.google.com/assets/colab-badge.svg\" alt=\"Open In Colab\"/></a>"
      ]
    },
    {
      "cell_type": "code",
      "metadata": {
        "id": "vUiy0Kk-3ft0",
        "colab_type": "code",
        "colab": {}
      },
      "source": [
        "      from google.colab import drive\n",
        "drive.mount('/content/drive')"
      ],
      "execution_count": null,
      "outputs": []
    },
    {
      "cell_type": "markdown",
      "metadata": {
        "colab_type": "text",
        "id": "5fCEDCU_qrC0"
      },
      "source": [
        "<p><img alt=\"Colaboratory logo\" height=\"45px\" src=\"/img/colab_favicon.ico\" align=\"left\" hspace=\"10px\" vspace=\"0px\"></p>\n",
        "\n",
        "<h1>¿Qué es Colaboratory?</h1>\n",
        "\n",
        "Colab te permite ejecutar y programar en Python en tu navegador, con\n",
        "- No requiere configuración\n",
        "- Acceso gratuito a GPUs\n",
        "- Compartir fácilmente\n",
        "\n",
        "Colab puede facilitar tu trabajo, ya seas un <strong>alumno</strong>, un <strong>científico de datos</strong> o un <strong>investigador de IA</strong>. No te pierdas el vídeo de <a href=\"https://www.youtube.com/watch?v=inN8seMm7UI\">introducción a Colab</a> para obtener más información. O bien, empieza aquí abajo."
      ]
    },
    {
      "cell_type": "code",
      "metadata": {
        "id": "REUZzjx34Ywu",
        "colab_type": "code",
        "colab": {}
      },
      "source": [
        "import pandas as pd\n",
        "import numpy as np\n"
      ],
      "execution_count": null,
      "outputs": []
    },
    {
      "cell_type": "code",
      "metadata": {
        "id": "32ASMq-94f-c",
        "colab_type": "code",
        "colab": {}
      },
      "source": [
        "df = pd.read_csv('/content/sample_data/california_housing_train.csv')"
      ],
      "execution_count": null,
      "outputs": []
    },
    {
      "cell_type": "code",
      "metadata": {
        "id": "NlZx_uEt4z9Q",
        "colab_type": "code",
        "colab": {
          "base_uri": "https://localhost:8080/",
          "height": 89
        },
        "outputId": "c2a42fa4-e8a0-4125-ab70-6fd1b53ffed2"
      },
      "source": [
        "df.columns"
      ],
      "execution_count": null,
      "outputs": [
        {
          "output_type": "execute_result",
          "data": {
            "text/plain": [
              "Index(['longitude', 'latitude', 'housing_median_age', 'total_rooms',\n",
              "       'total_bedrooms', 'population', 'households', 'median_income',\n",
              "       'median_house_value'],\n",
              "      dtype='object')"
            ]
          },
          "metadata": {
            "tags": []
          },
          "execution_count": 11
        }
      ]
    },
    {
      "cell_type": "code",
      "metadata": {
        "id": "h5CFLgLt33Ro",
        "colab_type": "code",
        "colab": {}
      },
      "source": [
        "def stats_resumen(dataframe):\n",
        "    columns = dataframe.columns\n",
        "    atributo1 = []\n",
        "    atributo2 = []\n",
        "    count_1 = []\n",
        "    count_2 = []\n",
        "    prop = []\n",
        "    mean = []\n",
        "    median = []\n",
        "    std = []\n",
        "    minimun = []\n",
        "    maximum = []\n",
        "    perc_25 = []\n",
        "    perc_75 = []\n",
        "\n",
        "\n",
        "    \n",
        "    for col in columns:\n",
        "        \n",
        "        if (dataframe[col].dtypes=='object'):\n",
        "            atributo1.append(col)\n",
        "            count_1.append(dataframe[col].value_counts())\n",
        "\n",
        "        else:\n",
        "            atributo2.append(col)\n",
        "            count_2.append(dataframe[col].value_counts())\n",
        "            mean.append(dataframe[col].mean())\n",
        "            median.append(dataframe[col].median())\n",
        "            std.append(dataframe[col].std())\n",
        "            minimun.append(dataframe[col].min())\n",
        "            maximum.append(dataframe[col].max())\n",
        "            perc_25.append(np.percentile(dataframe[col], q = 25))\n",
        "            perc_75.append(np.percentile(dataframe[col], q = 75))\n",
        "\n",
        "    \n",
        "    #print(len(prop))                 \n",
        "    features = pd.DataFrame({'atributo': atributo1,'casos':count_1})\n",
        "    \n",
        "    features = features.set_index('atributo')\n",
        "    #features = features.sort_values(by=['Frecuencia'], ascending = False)\n",
        "\n",
        "\n",
        "    describe = pd.DataFrame({'atributo': atributo2,'casos':count_2, \n",
        "                             #'Frecuencia':prop,\n",
        "         'Media':mean,'Mediana':median,'Std':std})\n",
        "    \n",
        "    #features = describe.set_index('atributo')\n",
        "    #describe = features.sort_values(by=['Frecuencia'], ascending = False)\n",
        "    return features, describe\n",
        "\n"
      ],
      "execution_count": null,
      "outputs": []
    },
    {
      "cell_type": "code",
      "metadata": {
        "id": "CckymrwB4evz",
        "colab_type": "code",
        "colab": {
          "base_uri": "https://localhost:8080/",
          "height": 269
        },
        "outputId": "b18485ad-1434-4760-8bfb-a5a32b503bab"
      },
      "source": [
        "stats_resumen(df)"
      ],
      "execution_count": null,
      "outputs": [
        {
          "output_type": "execute_result",
          "data": {
            "text/plain": [
              "(Empty DataFrame\n",
              " Columns: [casos]\n",
              " Index: [],              atributo  ...            Std\n",
              " 0           longitude  ...       2.005166\n",
              " 1            latitude  ...       2.137340\n",
              " 2  housing_median_age  ...      12.586937\n",
              " 3         total_rooms  ...    2179.947071\n",
              " 4      total_bedrooms  ...     421.499452\n",
              " 5          population  ...    1147.852959\n",
              " 6          households  ...     384.520841\n",
              " 7       median_income  ...       1.908157\n",
              " 8  median_house_value  ...  115983.764387\n",
              " \n",
              " [9 rows x 5 columns])"
            ]
          },
          "metadata": {
            "tags": []
          },
          "execution_count": 69
        }
      ]
    },
    {
      "cell_type": "code",
      "metadata": {
        "id": "UoLnCAzw5wcu",
        "colab_type": "code",
        "colab": {}
      },
      "source": [
        ""
      ],
      "execution_count": null,
      "outputs": []
    }
  ]
}