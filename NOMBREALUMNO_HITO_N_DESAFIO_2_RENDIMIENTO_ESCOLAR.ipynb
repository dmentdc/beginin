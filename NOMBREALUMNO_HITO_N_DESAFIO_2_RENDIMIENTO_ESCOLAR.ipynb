{
  "nbformat": 4,
  "nbformat_minor": 0,
  "metadata": {
    "kernelspec": {
      "display_name": "Python 3",
      "language": "python",
      "name": "python3"
    },
    "language_info": {
      "codemirror_mode": {
        "name": "ipython",
        "version": 3
      },
      "file_extension": ".py",
      "mimetype": "text/x-python",
      "name": "python",
      "nbconvert_exporter": "python",
      "pygments_lexer": "ipython3",
      "version": "3.7.4"
    },
    "colab": {
      "name": "NOMBREALUMNO_HITO_N_DESAFIO_2_RENDIMIENTO_ESCOLAR.ipynb",
      "provenance": [],
      "toc_visible": true,
      "include_colab_link": true
    }
  },
  "cells": [
    {
      "cell_type": "markdown",
      "metadata": {
        "id": "view-in-github",
        "colab_type": "text"
      },
      "source": [
        "<a href=\"https://colab.research.google.com/github/sebarias/beginin/blob/master/NOMBREALUMNO_HITO_N_DESAFIO_2_RENDIMIENTO_ESCOLAR.ipynb\" target=\"_parent\"><img src=\"https://colab.research.google.com/assets/colab-badge.svg\" alt=\"Open In Colab\"/></a>"
      ]
    },
    {
      "cell_type": "code",
      "metadata": {
        "id": "d87Vd3dkyCul",
        "colab_type": "code",
        "colab": {
          "base_uri": "https://localhost:8080/",
          "height": 122
        },
        "outputId": "98e5959b-4f95-4a78-e4a6-0d0c51ad60d0"
      },
      "source": [
        "from google.colab import drive\n",
        "drive.mount('/content/drive')"
      ],
      "execution_count": 1,
      "outputs": [
        {
          "output_type": "stream",
          "text": [
            "Go to this URL in a browser: https://accounts.google.com/o/oauth2/auth?client_id=947318989803-6bn6qk8qdgf4n4g3pfee6491hc0brc4i.apps.googleusercontent.com&redirect_uri=urn%3aietf%3awg%3aoauth%3a2.0%3aoob&response_type=code&scope=email%20https%3a%2f%2fwww.googleapis.com%2fauth%2fdocs.test%20https%3a%2f%2fwww.googleapis.com%2fauth%2fdrive%20https%3a%2f%2fwww.googleapis.com%2fauth%2fdrive.photos.readonly%20https%3a%2f%2fwww.googleapis.com%2fauth%2fpeopleapi.readonly\n",
            "\n",
            "Enter your authorization code:\n",
            "··········\n",
            "Mounted at /content/drive\n"
          ],
          "name": "stdout"
        }
      ]
    },
    {
      "cell_type": "markdown",
      "metadata": {
        "id": "NMBtoFQP_k1D",
        "colab_type": "text"
      },
      "source": [
        "### Nombre Alumno: COMPLETAR\n",
        "### Generación :  Fundamentos Data Science G15\n",
        "### Profesores : Bernarda Rodríguez - Alvaro López\n",
        "### Fecha : COMPLETAR de Julio 2020"
      ]
    },
    {
      "cell_type": "markdown",
      "metadata": {
        "id": "GZImP0E2_k1D",
        "colab_type": "text"
      },
      "source": [
        "#                  PRUEBA FUNDAMENTOS DATA SCIENCE\n",
        "\n",
        "\n",
        "## DESAFIO 2: RENDIMIENTO ESCOLAR"
      ]
    },
    {
      "cell_type": "markdown",
      "metadata": {
        "id": "rNsxtekI_k1E",
        "colab_type": "text"
      },
      "source": [
        "\n",
        "## HITO 1  \n",
        "\n",
        "## 1. SECCIÓN PRELIMINARES\n"
      ]
    },
    {
      "cell_type": "markdown",
      "metadata": {
        "id": "X9pK86EW_t2r",
        "colab_type": "text"
      },
      "source": [
        "### Problema\n",
        "Lo contactan de una escuela Portuguesa para generar un modelo que identifique aquellos alumnos que presentan un bajo desempeño académico, medido en el promedio final del año escolar. Para ello le envían un archivo con registros sociodemográficos y conductuales de los alumnos dos escuelas para perfilar a los estudiantes.\n",
        "De manera adicional la psicopedagoga sugiere inspeccionar una batería de preguntas asociadas a aspectos ambientales del alumno (de `famrel` a `health` ) y ver si éstas se pueden abstraer en categorías latentes."
      ]
    },
    {
      "cell_type": "markdown",
      "metadata": {
        "id": "IbQQqWH_AICi",
        "colab_type": "text"
      },
      "source": [
        "### Implementación del modelo\n",
        "\n",
        "Para obtener un modelo predictivo que resuelva este problema, donde los vectores objetivos son variables continuas, es posible utilizar el modelo de regresión lineal simple.\n",
        "\n",
        "$$\n",
        "\\Huge Y =  \\beta_{0} + \\sum_{i=0} {\\beta }_{i} \\cdot {X}_{i} + \\epsilon\n",
        "$$\n"
      ]
    },
    {
      "cell_type": "markdown",
      "metadata": {
        "id": "nHillD-YAOFj",
        "colab_type": "text"
      },
      "source": [
        "### Métricas de Desempeño y de Ajuste\n",
        "\n",
        "Dado que es un problema que se resuelve aplicando un modelo de regresión lineal, las métricas de desempeño a utilzar son:\n",
        "\n",
        "- `p-value`: nos permitirá determinar la relación de confianza entre las variables.\n",
        "- `Test F`: El test F es un test de hipótesis que considera como hipótesis nula que todos los coeficientes de correlación estimados son cero, frente a la hipótesis alternativa de que al menos uno de ellos no lo es. Se emplea en modelos de regresión múltiple para saber si al menos alguno de los predictores introducidos en el modelo contribuye de forma significativa. En modelos lineales simples, dado que solo hay un predictor, el p-value del test F es igual al p-value del t-test del predictor. \n",
        "- `R cuadrado`: Describe la proporción de variabilidad observada en la variable dependiente Y explicada por el modelo y relativa a la variabilidad total. Su valor está acotado entre 0 y 1. \n",
        "- `Error Cuadrático Medio`: Representa la expectativa del error cuadrático.\n",
        "Es un indicador de calidad con valores no negativos, donde menores valores indican mejores niveles de ajuste.\n"
      ]
    },
    {
      "cell_type": "code",
      "metadata": {
        "id": "N7Is2cgP_k1J",
        "colab_type": "code",
        "colab": {}
      },
      "source": [
        ""
      ],
      "execution_count": null,
      "outputs": []
    },
    {
      "cell_type": "markdown",
      "metadata": {
        "id": "zFl4zhUgAXe3",
        "colab_type": "text"
      },
      "source": [
        "### Descripción de la Base de Datos\n",
        "\n",
        "Para responder esta pregunta deben utilizar el archivo students.csv . \n",
        "\n",
        "Las variables que componen la base se detallan a continuación.\n",
        "\n",
        "`school` : Escuela del estudiante. (binaria: 'GP' - Gabriel Pereira o 'MS' - Mousinho da Silveira)\n",
        "\n",
        "`sex`: Sexo del estudiante. (binaria: 'F' - Mujer o 'M' - Hombre)\n",
        "\n",
        "`age`: Edad del estudiante. (numérica: de 15 a 22)\n",
        "\n",
        "`address`: Ubicación de la casa del estudiante. (binaria: 'U' - urbana o 'R' - rural)\n",
        "\n",
        "`famsize`: Tamaño de la familia. (binaria: 'LE3' - less or equal to 3 or 'GT3' - greater than 3) Pstatus : Estado cohabitacional de los padres. (binaria: 'T' - cohabitando juntos o 'A' - viviendo\n",
        "separados)\n",
        "\n",
        "`Medu` : Nivel educacional de la madre. (numérica: 0 - ninguno, 1 - educación básica (4to), 2 - de\n",
        "5to a 9, 3 - educación media, o 4 - educación superior).\n",
        "\n",
        "`Fedu` : Nivel educacional del padre. (numérica: 0 - ninguno, 1 - educación básica (4to), 2 - de\n",
        "5to a 9, 3 - educación media, o 4 - educación superior).\n",
        "\n",
        "`Mjob` : Ocupación de la madre. (nominal: 'teacher' profesora, 'health' relacionada a salud,\n",
        "'services' (e.g. administración pública o policía), 'at_home' en casa u 'other' otra).\n",
        "\n",
        "`Fjob` : Ocupación del padre (nominal: 'teacher' profesor, 'health' relacionado a salud, 'services'\n",
        "(e.g. administración pública o policía), 'at_home' en casa u 'other' otra).\n",
        "reason : Razón para escoger la escuela (nominal: 'home' cercano a casa, 'reputation'\n",
        "reputación de la escuela, 'course' preferencia de cursos u 'other' otra)\n",
        "\n",
        "`guardian`: Apoderado del estudiante (nominal: 'mother' madre, 'father' padre u 'other' otro)\n",
        "traveltime : Tiempo de viaje entre hogar y colegio. (numeric: 1 - <15 min., 2 - 15 a 30 min., 3 - 30 min. a 1 hora, or 4 - >1 hora).\n",
        "studytime : Horas semanales dedicadas al estudio. (numérica: 1 - <2 horas, 2 - 2 a 5 horas, 3 - 5 a 10 horas, o 4 - >10 horas)\n",
        "\n",
        "`failures`: Número de clases reprobadas. (numérica: n si 1<=n<3, de lo contrario 4) : Apoyo educacional del colegio. (binaria: si o no)\n",
        "\n",
        "`schoolsup`: Apoyo educacional familiar. (binaria: si o no)\n",
        "\n",
        "`famsup`: Clases particulares pagadas (matemáticas o portugués) (binaria: si o no)\n",
        " \n",
        "`paid`: Clases particulares pagadas (matemáticas o portugués) (binaria: si o no)\n",
        "\n",
        "`activities`: Actividades extracurriculares. (binaria: si o no)\n",
        "\n",
        "`nursery`: Asistió a guardería infantil. (binaria: si o no)\n",
        "\n",
        "`higher`: Desea proseguir estudios superiores (binaria: si o no)\n",
        "\n",
        "`internet`: Acceso a internet desde el hogar (binaria: si o no)\n",
        "\n",
        "`romantic`: Relación romántica (binaria: si o no)\n",
        "\n",
        "`famrel` : Calidad de las relaciones familiares. (numérica: de 1 - muy malas a 5 - excelentes)\n",
        "\n",
        "`freetime`: Tiempo libre fuera del colegio (numérica: de 1 - muy poco a 5 - mucho)\n",
        "\n",
        "`goout`: Salidas con amigos (numérica: de 1 - muy pocas a 5 - muchas)\n",
        "goout\n",
        "\n",
        "`Dalc`: Consumo de alcohol en día de semana (numérica: de 1 - muy bajo a 5 - muy alto)\n",
        "\n",
        "`Walc`: Consumo de alcohol en fines de semana (numérica: de 1 - muy bajo a 5 - muy alto)\n",
        "\n",
        "`health`: Estado de salud actual (numérica: from 1 - muy malo to 5 - muy bueno)\n",
        "\n",
        "`absences`: Cantidad de ausencias escolares (numérica: de 0 a 93)\n",
        "\n",
        "`G1`: Notas durante el primer semestre (numérica: de 0 a 20). __Este es uno de sus vectores objetivos para el modelo descriptivo__.\n",
        "\n",
        "`G2`: Notas durante el segundo semestre (numérica: de 0 a 20). __Este es uno de sus vectores objetivos para el modelo descriptivo.__\n",
        " \n",
        "`G3`: Promedio final (numérica: de 0 a 20). __Este es uno de sus vectores objetivos para el modelo descriptivo y el vector a predecir en el modelo predictivo.__\n",
        "\n",
        " \n",
        " \n",
        " \n",
        " \n",
        "\n",
        " "
      ]
    },
    {
      "cell_type": "code",
      "metadata": {
        "id": "m7R3YEvS_k1P",
        "colab_type": "code",
        "colab": {}
      },
      "source": [
        ""
      ],
      "execution_count": null,
      "outputs": []
    },
    {
      "cell_type": "code",
      "metadata": {
        "id": "5g6Qb4-I_k1Z",
        "colab_type": "code",
        "colab": {}
      },
      "source": [
        ""
      ],
      "execution_count": null,
      "outputs": []
    },
    {
      "cell_type": "markdown",
      "metadata": {
        "id": "g7whfLnp_k1c",
        "colab_type": "text"
      },
      "source": [
        "\n",
        "\n",
        "## 2. SECCIÓN ASPECTOS COMPUTACIONALES"
      ]
    },
    {
      "cell_type": "markdown",
      "metadata": {
        "id": "dQmUjmNFN0kE",
        "colab_type": "text"
      },
      "source": [
        "Para procesar los datos y diseñar el modelo se utilizarán las siguientes librerias:\n",
        "- pandas\n",
        "- numpy\n",
        "- matplotlib.pyplot\n",
        "- statsmodels.api\n",
        "- statsmodels.formula.api\n",
        "- scipy.stats\n",
        "- seaborn\n",
        "- sklearn \n",
        "  - linear_model\n",
        "- sklearn.metrics\n",
        "  - mean_squared_error\n",
        "  - r2_score\n",
        "- sklearn.model_selection\n",
        "   - train_test_split\n"
      ]
    },
    {
      "cell_type": "markdown",
      "metadata": {
        "id": "gGMqznzKR7B1",
        "colab_type": "text"
      },
      "source": [
        "### Análisis de datos perdidos\n",
        "\n",
        "Para las categorías de datos nulos: \"nulidade\", \"sem validade\", \"zero\", se realizará a través de funciones de reemplazo, la modificación de los valores a nulos de pandas.\n",
        "\n",
        "En de las variables numéricas que se registraron como strings, a través de funciones de parseo, se obtendra el valor númerico de la variable y se rtansformará a número.\n",
        "\n",
        "### Binarización de Variables\n",
        "\n",
        "Mediante el metodo np-where de numpy se generará la binarización de las variables binarias.\n"
      ]
    },
    {
      "cell_type": "code",
      "metadata": {
        "id": "9o6akWE-_k1c",
        "colab_type": "code",
        "colab": {}
      },
      "source": [
        ""
      ],
      "execution_count": null,
      "outputs": []
    },
    {
      "cell_type": "code",
      "metadata": {
        "id": "kxYrykJy_k1h",
        "colab_type": "code",
        "colab": {}
      },
      "source": [
        ""
      ],
      "execution_count": null,
      "outputs": []
    },
    {
      "cell_type": "code",
      "metadata": {
        "id": "N0GyW8Lv_k1m",
        "colab_type": "code",
        "colab": {}
      },
      "source": [
        "/content/sample_data"
      ],
      "execution_count": null,
      "outputs": []
    },
    {
      "cell_type": "markdown",
      "metadata": {
        "id": "zUv1kxf6_k1p",
        "colab_type": "text"
      },
      "source": [
        "## HITO 2:"
      ]
    },
    {
      "cell_type": "markdown",
      "metadata": {
        "id": "Nc50AFeH_k1q",
        "colab_type": "text"
      },
      "source": [
        "## 3. SECCIÓN DESCRIPCIÓN"
      ]
    },
    {
      "cell_type": "markdown",
      "metadata": {
        "id": "R8zsPi-P4jD9",
        "colab_type": "text"
      },
      "source": [
        "### Limpieza de Base de Datos"
      ]
    },
    {
      "cell_type": "code",
      "metadata": {
        "id": "jwjvczgG_k1r",
        "colab_type": "code",
        "colab": {}
      },
      "source": [
        "import pandas as pd\n",
        "import numpy as np"
      ],
      "execution_count": 81,
      "outputs": []
    },
    {
      "cell_type": "code",
      "metadata": {
        "id": "OhsGFclL_k1t",
        "colab_type": "code",
        "colab": {}
      },
      "source": [
        "df = pd.read_csv('drive/My Drive/students.csv',delimiter='|').drop(columns='Unnamed: 0', axis=1)"
      ],
      "execution_count": 82,
      "outputs": []
    },
    {
      "cell_type": "code",
      "metadata": {
        "id": "SHfHLq_u4g0a",
        "colab_type": "code",
        "colab": {}
      },
      "source": [
        "for col in df.columns:\n",
        "  df[col].replace(to_replace=['zero', 'sem validade', 'nulidade'],value=np.nan, inplace=True)"
      ],
      "execution_count": 83,
      "outputs": []
    },
    {
      "cell_type": "code",
      "metadata": {
        "id": "wWYRtyS0z-gN",
        "colab_type": "code",
        "colab": {
          "base_uri": "https://localhost:8080/",
          "height": 119
        },
        "outputId": "79d0c611-a162-4320-b44b-f22b013306c5"
      },
      "source": [
        ""
      ],
      "execution_count": 12,
      "outputs": [
        {
          "output_type": "execute_result",
          "data": {
            "text/plain": [
              "Index(['school', 'sex', 'age', 'address', 'famsize', 'Pstatus', 'Medu', 'Fedu',\n",
              "       'Mjob', 'Fjob', 'reason', 'guardian', 'traveltime', 'studytime',\n",
              "       'failures', 'schoolsup', 'famsup', 'paid', 'activities', 'nursery',\n",
              "       'higher', 'internet', 'romantic', 'famrel', 'freetime', 'goout', 'Dalc',\n",
              "       'Walc', 'health', 'absences', 'G1', 'G2', 'G3'],\n",
              "      dtype='object')"
            ]
          },
          "metadata": {
            "tags": []
          },
          "execution_count": 12
        }
      ]
    },
    {
      "cell_type": "code",
      "metadata": {
        "id": "MeYQGoAC_k1x",
        "colab_type": "code",
        "colab": {
          "base_uri": "https://localhost:8080/",
          "height": 119
        },
        "outputId": "95931a5c-e894-4db8-9c92-bbf2157952d2"
      },
      "source": [
        "df['goout'].value_counts()\n",
        "\n"
      ],
      "execution_count": 78,
      "outputs": [
        {
          "output_type": "execute_result",
          "data": {
            "text/plain": [
              "\"3\"    131\n",
              "\"2\"    104\n",
              "\"4\"     84\n",
              "\"5\"     53\n",
              "\"1\"     23\n",
              "Name: goout, dtype: int64"
            ]
          },
          "metadata": {
            "tags": []
          },
          "execution_count": 78
        }
      ]
    },
    {
      "cell_type": "code",
      "metadata": {
        "id": "r5JYC8pL6Opy",
        "colab_type": "code",
        "colab": {
          "base_uri": "https://localhost:8080/",
          "height": 595
        },
        "outputId": "03e9b9bf-5dab-400a-da1a-cfd9d724d3ff"
      },
      "source": [
        "df.isna().sum() / len(df)"
      ],
      "execution_count": 87,
      "outputs": [
        {
          "output_type": "execute_result",
          "data": {
            "text/plain": [
              "school        0.012658\n",
              "sex           0.007595\n",
              "age           0.010127\n",
              "address       0.005063\n",
              "famsize       0.010127\n",
              "Pstatus       0.015190\n",
              "Medu          0.007595\n",
              "Fedu          0.012658\n",
              "Mjob          0.015190\n",
              "Fjob          0.000000\n",
              "reason        0.010127\n",
              "guardian      0.010127\n",
              "traveltime    0.007595\n",
              "studytime     0.012658\n",
              "failures      0.012658\n",
              "schoolsup     0.020253\n",
              "famsup        0.012658\n",
              "paid          0.002532\n",
              "activities    0.012658\n",
              "nursery       0.015190\n",
              "higher        0.015190\n",
              "internet      0.007595\n",
              "romantic      0.005063\n",
              "famrel        0.012658\n",
              "freetime      0.005063\n",
              "goout         0.012658\n",
              "Dalc          0.007595\n",
              "Walc          0.012658\n",
              "health        0.010127\n",
              "absences      0.010127\n",
              "G1            0.010127\n",
              "G2            0.000000\n",
              "G3            0.007595\n",
              "dtype: float64"
            ]
          },
          "metadata": {
            "tags": []
          },
          "execution_count": 87
        }
      ]
    },
    {
      "cell_type": "code",
      "metadata": {
        "id": "-2hrvRPJ2-wH",
        "colab_type": "code",
        "colab": {
          "base_uri": "https://localhost:8080/",
          "height": 34
        },
        "outputId": "448c3278-5167-40b5-b799-01151e86c6f0"
      },
      "source": [
        "(df['school'].value_counts().get('sem validade') + df['school'].value_counts().get('zero') + df['school'].value_counts().get('nulidade')) / len(df['school'])"
      ],
      "execution_count": 23,
      "outputs": [
        {
          "output_type": "execute_result",
          "data": {
            "text/plain": [
              "0.012658227848101266"
            ]
          },
          "metadata": {
            "tags": []
          },
          "execution_count": 23
        }
      ]
    },
    {
      "cell_type": "code",
      "metadata": {
        "id": "74MLFTzl971b",
        "colab_type": "code",
        "colab": {}
      },
      "source": [
        "def missing_values_table(df):\n",
        "        mis_val = df.isnull().sum()\n",
        "        mis_val_percent = 100 * df.isnull().sum() / len(df)\n",
        "        mis_val_table = pd.concat([mis_val, mis_val_percent], axis=1)\n",
        "        mis_val_table_ren_columns = mis_val_table.rename(\n",
        "        columns = {0 : 'Missing Values', 1 : '% of Total Values'})\n",
        "        mis_val_table_ren_columns = mis_val_table_ren_columns[\n",
        "            mis_val_table_ren_columns.iloc[:,1] != 0].sort_values(\n",
        "        '% of Total Values', ascending=False).round(1)\n",
        "        print (\"Your selected dataframe has \" + str(df.shape[1]) + \" columns.\\n\"      \n",
        "            \"There are \" + str(mis_val_table_ren_columns.shape[0]) +\n",
        "              \" columns that have missing values.\")\n",
        "        return mis_val_table_ren_columns"
      ],
      "execution_count": null,
      "outputs": []
    },
    {
      "cell_type": "code",
      "metadata": {
        "id": "cmkz21XI3p2b",
        "colab_type": "code",
        "colab": {
          "base_uri": "https://localhost:8080/",
          "height": 357
        },
        "outputId": "60b47948-2788-4da5-d1b1-5ff9e8f24326"
      },
      "source": [
        "df['G3'].value_counts()"
      ],
      "execution_count": 34,
      "outputs": [
        {
          "output_type": "execute_result",
          "data": {
            "text/plain": [
              "10          55\n",
              "11          47\n",
              "0           37\n",
              "15          33\n",
              "8           32\n",
              "12          31\n",
              "13          31\n",
              "14          27\n",
              "9           27\n",
              "16          16\n",
              "6           15\n",
              "18          12\n",
              "7            9\n",
              "5            7\n",
              "17           6\n",
              "19           5\n",
              "nulidade     3\n",
              "20           1\n",
              "4            1\n",
              "Name: G3, dtype: int64"
            ]
          },
          "metadata": {
            "tags": []
          },
          "execution_count": 34
        }
      ]
    },
    {
      "cell_type": "markdown",
      "metadata": {
        "id": "7ninHdnm_k12",
        "colab_type": "text"
      },
      "source": [
        "## HITO 3:\n",
        "\n",
        "## 4. SECCIÓN MODELACIÓN DESCRIPTIVA"
      ]
    },
    {
      "cell_type": "code",
      "metadata": {
        "id": "a2i3YXS2_k13",
        "colab_type": "code",
        "colab": {}
      },
      "source": [
        ""
      ],
      "execution_count": null,
      "outputs": []
    },
    {
      "cell_type": "code",
      "metadata": {
        "id": "WLG76sxK_k16",
        "colab_type": "code",
        "colab": {}
      },
      "source": [
        ""
      ],
      "execution_count": null,
      "outputs": []
    },
    {
      "cell_type": "code",
      "metadata": {
        "id": "ZtGulLHO_k19",
        "colab_type": "code",
        "colab": {}
      },
      "source": [
        ""
      ],
      "execution_count": null,
      "outputs": []
    },
    {
      "cell_type": "code",
      "metadata": {
        "id": "iT5sGj7c_k2A",
        "colab_type": "code",
        "colab": {}
      },
      "source": [
        ""
      ],
      "execution_count": null,
      "outputs": []
    },
    {
      "cell_type": "code",
      "metadata": {
        "id": "I7MiZ0Wl_k2G",
        "colab_type": "code",
        "colab": {}
      },
      "source": [
        ""
      ],
      "execution_count": null,
      "outputs": []
    },
    {
      "cell_type": "markdown",
      "metadata": {
        "id": "VtiNb_-0_k2J",
        "colab_type": "text"
      },
      "source": [
        "## HITO 4:\n",
        "\n",
        "## 4. SECCIÓN MODELACIÓN PREDICTIVA"
      ]
    },
    {
      "cell_type": "code",
      "metadata": {
        "id": "bok1SyWg_k2K",
        "colab_type": "code",
        "colab": {}
      },
      "source": [
        ""
      ],
      "execution_count": null,
      "outputs": []
    },
    {
      "cell_type": "code",
      "metadata": {
        "id": "ARpl4hyM_k2P",
        "colab_type": "code",
        "colab": {}
      },
      "source": [
        ""
      ],
      "execution_count": null,
      "outputs": []
    },
    {
      "cell_type": "code",
      "metadata": {
        "id": "Hj_aG9XT_k2X",
        "colab_type": "code",
        "colab": {}
      },
      "source": [
        ""
      ],
      "execution_count": null,
      "outputs": []
    },
    {
      "cell_type": "code",
      "metadata": {
        "id": "WWula1vE_k2g",
        "colab_type": "code",
        "colab": {}
      },
      "source": [
        ""
      ],
      "execution_count": null,
      "outputs": []
    },
    {
      "cell_type": "code",
      "metadata": {
        "id": "V-tcsh-U_k2n",
        "colab_type": "code",
        "colab": {}
      },
      "source": [
        ""
      ],
      "execution_count": null,
      "outputs": []
    }
  ]
}